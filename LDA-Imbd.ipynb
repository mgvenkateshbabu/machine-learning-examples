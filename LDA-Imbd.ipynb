{
 "cells": [
  {
   "cell_type": "code",
   "execution_count": 1,
   "id": "b3609e8e",
   "metadata": {},
   "outputs": [],
   "source": [
    "import os\n",
    "import tarfile\n",
    "from six.moves import urllib\n",
    "DOWNLOAD_ROOT = \"https://ai.stanford.edu/~amaas/data/sentiment/\"\n",
    "IMDB_PATH = os.path.join(\"C:/Users/venka\", \"dummy_folder\")\n",
    "IMDB_URL = DOWNLOAD_ROOT + \"aclImdb_v1.tar.gz\"\n",
    "\n",
    "\n",
    "def fetch_imdb_data(imdb_url=IMDB_URL, imdb_path=IMDB_PATH):\n",
    "    if not os.path.isdir(imdb_path):\n",
    "        os.makedirs(imdb_path)\n",
    "    tgz_path = os.path.join(imdb_path, \"aclImdb_v1.tar.gz\")\n",
    "    urllib.request.urlretrieve(imdb_url, tgz_path)\n",
    "    imdb_tgz = tarfile.open(tgz_path)\n",
    "    imdb_tgz.extractall(path=imdb_path)\n",
    "    imdb_tgz.close()\n",
    "        \n",
    "fetch_imdb_data()"
   ]
  },
  {
   "cell_type": "code",
   "execution_count": 2,
   "id": "7a91bea0",
   "metadata": {},
   "outputs": [
    {
     "name": "stdout",
     "output_type": "stream",
     "text": [
      "type of text_train: <class 'list'>\n",
      "length of text_train: 75000\n",
      "text_train[6]:\n",
      "b'Gloomy Sunday - Ein Lied von Liebe und Tod directed by Rolf Sch\\xc3\\xbcbel in 1999 is a romantic, absorbing, beautiful, and heartbreaking movie. It started like Jules and Jim; it ended as one of Agatha Christie\\'s books, and in between it said something about love, friendship, devotion, jealousy, war, Holocaust, dignity, and betrayal, and it did better than The Black Book which is much more popular. It is not perfect, and it made me, a cynic, wonder in the end on the complexity of the relationships and sensational revelations, and who is who to whom but the movie simply overwhelmed me. Perfect or not, it is unforgettable. All four actors as the parts of the tragic not even a triangle but a rectangle were terrific. I do believe that three men could fell deeply for one girl as beautiful and dignified as Ilona in a star-making performance by young Hungarian actress Erica Marozs\\xc3\\xa1n and who would not? The titular song is haunting, sad, and beautiful, and no doubt deserves the movie been made about it and its effect on the countless listeners. I love the movie and I am surprised that it is so little known in this country. It is a gem.<br /><br />The fact that it is based on a story of the song that had played such important role in the lives of all characters made me do some research, and the real story behind the song of Love and Death seems as fascinating as the fictional one. The song was composed in 1930s by Rezs\\xc3\\xb6 Seress and was believed to have caused many suicides in Hungary and all over Europe as the world was moving toward the most devastating War of the last century. Rezs\\xc3\\xb6 Seress, a Jewish-Hungarian pianist and composer, was thrown to the Concentration Camp but survived, unlike his mother. In January, 1968, Seress committed suicide in Budapest by jumping out of a window. According to his obituary in the New York Times, \"Mr. Seres complained that the success of \"Gloomy Sunday\" actually increased his unhappiness, because he knew he would never be able to write a second hit.\" <br /><br />Many singers from all over the world have recorded their versions of the songs in different languages. Over 70 performers have covered the song since 1935, and some famous names include Billie Holiday, Paul Robeson, Pyotr Leschenko (in Russian, under title \"Mratschnoje Woskresenje\"), Bjork, Sarah McLachlan, and many more. The one that really got to me and made me shiver is by Diamanda Gal\\xc3\\xa1s, the Greek born American singer/pianist/performer with the voice of such tragic power that I still can\\'t get over her singing. Gal\\xc3\\xa1s has been described as \"capable of the most unnerving vocal terror\", and in her work she mostly concentrates on the topics of \"suffering, despair, condemnation, injustice and loss of dignity.\" When she sings the Song of Love and Death, her voice that could\\'ve belonged to the most tragic heroines of Ancient Greece leaves no hope and brings the horror and grief of love lost forever to the unbearable and incomparable heights.<br /><br />8.5/10'\n"
     ]
    }
   ],
   "source": [
    "from sklearn.datasets import load_files\n",
    "reviews_train = load_files(\"C:/Users/venka/dummy_folder/aclImdb/train/\")\n",
    "# load_files returns a bunch, containing training texts and training labels\n",
    "text_train, y_train = reviews_train.data, reviews_train.target\n",
    "print(\"type of text_train: {}\".format(type(text_train)))\n",
    "print(\"length of text_train: {}\".format(len(text_train)))\n",
    "print(\"text_train[6]:\\n{}\".format(text_train[6]))"
   ]
  },
  {
   "cell_type": "code",
   "execution_count": 3,
   "id": "c4e8e51d",
   "metadata": {},
   "outputs": [],
   "source": [
    "from sklearn.feature_extraction.text import CountVectorizer\n",
    "vect = CountVectorizer(max_features=10000, max_df=.15) \n",
    "X = vect.fit_transform(text_train)"
   ]
  },
  {
   "cell_type": "code",
   "execution_count": 7,
   "id": "a403727f",
   "metadata": {},
   "outputs": [],
   "source": [
    "from sklearn.decomposition import LatentDirichletAllocation\n",
    "lda = LatentDirichletAllocation(n_components=10, learning_method=\"batch\", max_iter=25, random_state=0)\n",
    "# We build the model and transform the data in one step\n",
    "# Computing transform takes some time,\n",
    "# and we can save time by doing both at once\n",
    "document_topics = lda.fit_transform(X)\n"
   ]
  },
  {
   "cell_type": "code",
   "execution_count": 13,
   "id": "a8a54f71",
   "metadata": {},
   "outputs": [
    {
     "name": "stdout",
     "output_type": "stream",
     "text": [
      "lda.components_.shape: (10, 10000)\n",
      "[[1.00021129e-01 9.29456044e+01 1.79458626e+03 ... 3.28228272e+01\n",
      "  1.68159341e+01 1.00024257e-01]\n",
      " [4.05195782e+00 9.58419899e+01 4.91995836e+02 ... 1.00036075e-01\n",
      "  6.36472775e+01 1.00007600e-01]\n",
      " [4.97005773e+00 2.09183682e+02 1.86078564e+02 ... 9.22679698e+01\n",
      "  1.00033937e-01 1.00006726e-01]\n",
      " ...\n",
      " [1.00017799e-01 2.49781601e+01 1.59593400e+03 ... 1.00021068e-01\n",
      "  1.00015076e-01 1.00004843e-01]\n",
      " [1.33298066e+02 2.91134266e+02 1.26917672e+02 ... 5.07346909e+01\n",
      "  3.06587269e+00 1.00007153e-01]\n",
      " [1.63812890e+00 4.41363833e+01 3.30718331e+02 ... 1.00019367e-01\n",
      "  1.00029691e-01 1.25099928e+02]]\n"
     ]
    }
   ],
   "source": [
    "print(\"lda.components_.shape: {}\".format(lda.components_.shape))\n",
    "\n",
    "print(lda.components_)"
   ]
  },
  {
   "cell_type": "code",
   "execution_count": 25,
   "id": "81eb3966",
   "metadata": {},
   "outputs": [
    {
     "name": "stdout",
     "output_type": "stream",
     "text": [
      "[['action' 'game' 'effects' ... 'garson' 'antoinette' 'bettie']\n",
      " ['guy' 're' 'around' ... 'sadako' 'asoka' 'eklavya']\n",
      " ['war' 'world' 'american' ... 'inuyasha' 'sadako' 'timon']\n",
      " ...\n",
      " ['funny' 'comedy' 'girl' ... 'izo' 'naschy' 'eklavya']\n",
      " ['father' 'wife' 'woman' ... 'cena' 'gundam' 'blackadder']\n",
      " ['role' 'cast' 'john' ... 'ringu' 'sadako' 'inuyasha']]\n"
     ]
    }
   ],
   "source": [
    "import numpy as np\n",
    "# For each topic (a row in the components_), sort the features (ascending)\n",
    "# Invert rows with [:, ::-1] to make sorting descending\n",
    "sorting = np.argsort(lda.components_, axis=1)[:, ::-1]\n",
    "\n",
    "# print(lda.components_[:, sorting, axis=1])\n",
    "# print(sorting)\n",
    "\n",
    "# Get the feature names from the vectorizer\n",
    "feature_names = np.array(vect.get_feature_names_out())\n",
    "\n",
    "print(feature_names[sorting])"
   ]
  },
  {
   "cell_type": "code",
   "execution_count": 33,
   "id": "ab24439d",
   "metadata": {},
   "outputs": [
    {
     "name": "stdout",
     "output_type": "stream",
     "text": [
      "['action' 'game' 'effects' 'special' 'fight' 'fi' 'sci' '10' 'star'\n",
      " 'alien']\n",
      "topic_0 **********************\n",
      "b\"In-crappy-credible. That's the word that comes to mind.\\n\"\n",
      "b'Joan Crawford in doing The Last of Mrs. Cheyney had to stand comparison with not one, but two previous actresses who essayed the part of a crooked adventuress who discovers she has a chance at love.\\n'\n",
      "b'This movie was inspiring to me, as it was about a woman who would not give up. She is one of my favorite actresses, appearing on ER in the U.\\n'\n",
      "b\"This isn't the worst comedy of all-time, but that is about the best thing that I can say about this pathetic film. I didn't laugh once, or even smile once during this bomb.\\n\"\n",
      "b'Chris Kattan is a great sketch actor on Saturday Night Live..\\n'\n",
      "b'008: The Thief of Bagdad (1924) - released 3/18/1924, viewed 7/28/05.<br /><br />George Gerswin\\'s \"Rhapsody in Blue\" is performed for the first time in NYC.\\n'\n",
      "b'As a cop this actor is pathetic but fascinating. A serial killer is at work in New York, using poetic ads in the Village Voice to attract his preys.\\n'\n",
      "b'The future, we are told, are what we make of it. Philip K.\\n'\n",
      "b\"For English speaking viewers: If you can get past the subtitle problems, you're in for a real treat.<br /><br />The subtitles are 2 or 3 seconds late-synched for the first 65 or so minutes of Disc 1 making it very difficult to watch.\\n\"\n",
      "b'Like some of the other folks who have reviewed this film, I was also waxing nostalgic about it..\\n'\n",
      "topic_7 **********************\n",
      "b\"I was so excited to see a film adaptation of A Little Night Music, but grew suspicious when I saw that Elizabeth Taylor is in it. Don't get me wrong, I love Elizabeth, but a musical actress she is definitely not.\\n\"\n",
      "b'This film is an hour or so of good entertainment and has some genuinely funny moments. I loved the character of Matt, and also Tiny.\\n'\n",
      "b\"Please see also my comment on Die Nibelungen part 1: Siegfried.<br /><br />The second part of UFA studio's gargantuan production of the Nibelungen saga continues in the stylised, symphonic and emotionally detached manner of its predecessor.\\n\"\n",
      "b'I saw this series a long time ago when it was aired on TV. I really liked it.\\n'\n",
      "b\"This movie is not for the masses. In fact, it's probably not even suitable for a major cult following.\\n\"\n",
      "b\"I picked this up in a cheap DVD dump bin, having remembered it from childhood - and wow has it dated. There's very little to smile at anymore! Two poms with bad comedic timing bumble around with a plank, encountering stereotype after stereotype including an equally bumbling Constable Plod who is more interested in picking up than anything.\\n\"\n",
      "b\"What can I say about this film? It's brilliant; Ko So-Young and Lee Sung-Jae are excellent as the married couple struggling to conceive. The only problem I had with the film is that it verge's a little to close to being sentimental during the early part of the film, but it's only a small problem.\\n\"\n",
      "b'I found STRIP SEARCH a thought-provoking and well done piece by some very talented and courageous artists. An example of how TV/Film can be used as a tool to get us to think and look at our world, our times and ourselves.\\n'\n",
      "b'Where are the parents who gave birth to these imbicles? Probably all dead from busted livers and car accidents? With as much sleeping and drinking and \"couple action\" depicted in this film, one or two itsy bitsy youngsters are bound to pop up sooner or later. It would have been a suspenseful scene if one of these oversexed morons brought the farm defending an infant instead of drinking and throwing themselves at the first attractive body.\\n'\n",
      "b'Korean martial arts fantasy about a vagabond demon killer, who is actually a wanted royal demon killer, who is drugged by a village and flees before he can get caught and turned over to soldiers for the reward. Falling asleep in what appears to be a temple he crosses over to Mid-Heaven where he arrives just in time to help a higher soul on a special mission who is under attack.\\n'\n"
     ]
    }
   ],
   "source": [
    "print(feature_names[sorting][0, :10])\n",
    "\n",
    "topic_0 = topic_7[0, :10]\n",
    "\n",
    "print(\"topic_0 **********************\")\n",
    "for i in topic_0:\n",
    " # show first two sentences\n",
    " print(b\".\".join(text_train[i].split(b\".\")[:2]) + b\".\\n\")\n",
    "    \n",
    "topic_7 = sorting[7, :10]\n",
    "\n",
    "print(\"topic_7 **********************\") \n",
    "for i in topic_7:\n",
    " # show first two sentences\n",
    " print(b\".\".join(text_train[i].split(b\".\")[:2]) + b\".\\n\")\n"
   ]
  }
 ],
 "metadata": {
  "kernelspec": {
   "display_name": "Python 3",
   "language": "python",
   "name": "python3"
  },
  "language_info": {
   "codemirror_mode": {
    "name": "ipython",
    "version": 3
   },
   "file_extension": ".py",
   "mimetype": "text/x-python",
   "name": "python",
   "nbconvert_exporter": "python",
   "pygments_lexer": "ipython3",
   "version": "3.8.8"
  }
 },
 "nbformat": 4,
 "nbformat_minor": 5
}
